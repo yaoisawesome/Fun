{
 "cells": [
  {
   "cell_type": "code",
   "execution_count": null,
   "metadata": {},
   "outputs": [
    {
     "name": "stdout",
     "output_type": "stream",
     "text": [
      "是哪个宝呀?小宝\n",
      "亲爱的小宝快来做数学题吧！\n",
      "今天打算做几道题呢？2\n",
      "\n",
      "题1: 1 + 6\n",
      "你的答案是:7\n",
      "答对了\n",
      "\n",
      "题2: 9 - 1\n"
     ]
    }
   ],
   "source": [
    "import random\n",
    "\n",
    "name=input(\"是哪个宝呀?\")\n",
    "print (\"亲爱的\"+name+\"快来做数学题吧！\")\n",
    "num=int(input(\"今天打算做几道题呢？\"))\n",
    "\n",
    "correct=0\n",
    "\n",
    "for n in range(1,num+1):\n",
    "    rand=random.randint(1,10)\n",
    "    rand2=random.randint(1,10)\n",
    "    if rand>rand2:\n",
    "        operation = '-'\n",
    "    else: operation = '+'\n",
    "        \n",
    "    maths = eval(str(rand) + operation + str(rand2))\n",
    "    #print('\\n题{}'.format(n))\n",
    "    print ('\\n题{}'.format(n)+\":\",rand,operation,rand2)\n",
    "\n",
    "    d=int(input (\"你的答案是:\"))\n",
    "    if d==maths:\n",
    "        print (\"答对了\")\n",
    "        correct=correct+1\n",
    "    else:\n",
    "        print (\"答错了. 正确的答案是\",maths)\n",
    "print(\"\\n\")\n",
    "        \n",
    "score = correct/num*100\n",
    "print(\"总分: \", int(score))\n",
    "if score==100:\n",
    "    print(\"哇！满分！\"+name+\"你太棒了！\")\n",
    "elif (score>=80 and score<100):\n",
    "    print(name,\"今天很不错哦！再接再厉！\")\n",
    "elif (score>=60 and score<80):\n",
    "    print(\"及格了，但还要继续加油哦！\")\n",
    "else:\n",
    "    print(\"啊，没有及格呢...要不再做几题？\") "
   ]
  },
  {
   "cell_type": "code",
   "execution_count": null,
   "metadata": {
    "collapsed": true
   },
   "outputs": [],
   "source": []
  }
 ],
 "metadata": {
  "kernelspec": {
   "display_name": "Python 3",
   "language": "python",
   "name": "python3"
  },
  "language_info": {
   "codemirror_mode": {
    "name": "ipython",
    "version": 3
   },
   "file_extension": ".py",
   "mimetype": "text/x-python",
   "name": "python",
   "nbconvert_exporter": "python",
   "pygments_lexer": "ipython3",
   "version": "3.5.3"
  }
 },
 "nbformat": 4,
 "nbformat_minor": 2
}
